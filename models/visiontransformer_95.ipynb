{
 "cells": [
  {
   "cell_type": "code",
   "execution_count": 1,
   "id": "8ed820be",
   "metadata": {
    "id": "8ed820be",
    "outputId": "c5838c6f-8fce-49be-cb3a-7bd8ab821d74"
   },
   "outputs": [
    {
     "name": "stdout",
     "output_type": "stream",
     "text": [
      "torch version: 1.13.0+cu117\n",
      "torchvision version: 0.14.0+cu117\n"
     ]
    }
   ],
   "source": [
    "# For this notebook to run with updated APIs, we need torch 1.12+ and torchvision 0.13+\n",
    "import torch\n",
    "import torchvision\n",
    "print(f\"torch version: {torch.__version__}\")\n",
    "print(f\"torchvision version: {torchvision.__version__}\")"
   ]
  },
  {
   "cell_type": "code",
   "execution_count": 2,
   "id": "0797a4ff-512e-4c46-a82a-e913e0db10a8",
   "metadata": {
    "id": "0797a4ff-512e-4c46-a82a-e913e0db10a8"
   },
   "outputs": [],
   "source": [
    "# Continue with regular imports\n",
    "import matplotlib.pyplot as plt\n",
    "import torch\n",
    "import torchvision\n",
    "from dataloaders import data_setup, engine\n",
    "from torch import nn\n",
    "from torchvision import transforms\n",
    "from torchinfo import summary\n"
   ]
  },
  {
   "cell_type": "code",
   "execution_count": 3,
   "id": "ff300c7e",
   "metadata": {},
   "outputs": [],
   "source": [
    "torch.cuda.empty_cache()"
   ]
  },
  {
   "cell_type": "code",
   "execution_count": 4,
   "id": "b93a75c4-6e40-4575-8d60-d1d43be9220f",
   "metadata": {
    "id": "b93a75c4-6e40-4575-8d60-d1d43be9220f",
    "outputId": "45f69d96-a3cf-4b60-89b0-c024cda96754"
   },
   "outputs": [
    {
     "data": {
      "text/plain": [
       "'cuda'"
      ]
     },
     "execution_count": 4,
     "metadata": {},
     "output_type": "execute_result"
    }
   ],
   "source": [
    "# Setup device agnostic code\n",
    "device = \"cuda\" if torch.cuda.is_available() else \"cpu\"\n",
    "device"
   ]
  },
  {
   "cell_type": "markdown",
   "id": "afbfa2ba-bae1-406b-bed6-4d17250e5b97",
   "metadata": {
    "id": "afbfa2ba-bae1-406b-bed6-4d17250e5b97"
   },
   "source": [
    "## Get data\n",
    "\n",
    "Before we can start to use **transfer learning**, we will set up the dataset into DataLoaders"
   ]
  },
  {
   "cell_type": "code",
   "execution_count": 5,
   "id": "8dfd6e3f-3f0d-4fca-9835-6a45a7c797c3",
   "metadata": {
    "id": "8dfd6e3f-3f0d-4fca-9835-6a45a7c797c3",
    "outputId": "ee9e7bc8-faba-44b1-a6d6-f461a3b7dc55"
   },
   "outputs": [
    {
     "name": "stdout",
     "output_type": "stream",
     "text": [
      "S:\\galaxydata\\data directory exists.\n"
     ]
    }
   ],
   "source": [
    "import os\n",
    "import zipfile\n",
    "\n",
    "from pathlib import Path\n",
    "\n",
    "import requests\n",
    "\n",
    "# Setup path to data folder\n",
    "path = \"S:/galaxydata/\"\n",
    "data_path = Path(path)\n",
    "image_path = data_path / \"data\"\n",
    "\n",
    "# If the image folder doesn't exist, download it and prepare it... \n",
    "if image_path.is_dir():\n",
    "    print(f\"{image_path} directory exists.\")\n"
   ]
  },
  {
   "cell_type": "code",
   "execution_count": 6,
   "id": "e3e04e57-44e8-4c13-97db-ba9a21a1924c",
   "metadata": {
    "id": "e3e04e57-44e8-4c13-97db-ba9a21a1924c"
   },
   "outputs": [],
   "source": [
    "# Setup Dirs\n",
    "train_dir = image_path / \"train\"\n",
    "test_dir = image_path / \"test\""
   ]
  },
  {
   "cell_type": "markdown",
   "id": "80dde33f-ab14-41b7-a9f8-2cc0b8a512c0",
   "metadata": {
    "id": "80dde33f-ab14-41b7-a9f8-2cc0b8a512c0"
   },
   "source": [
    "## Create Datasets and DataLoaders\n",
    "\n"
   ]
  },
  {
   "cell_type": "code",
   "execution_count": 7,
   "id": "4e095ac1-af8e-4215-8028-de97cfb65c39",
   "metadata": {
    "id": "4e095ac1-af8e-4215-8028-de97cfb65c39"
   },
   "outputs": [],
   "source": [
    "# Create a transforms pipeline manually (required for torchvision < 0.13)\n",
    "manual_transforms = transforms.Compose([\n",
    "    transforms.Resize((224, 224)), # 1. Reshape all images to 224x224 (though some models may require different sizes)\n",
    "    transforms.ToTensor(), # 2. Turn image values to between 0 & 1 \n",
    "    transforms.Normalize(mean=[0.485, 0.456, 0.406], # 3. A mean of [0.485, 0.456, 0.406] (across each colour channel)\n",
    "                         std=[0.229, 0.224, 0.225]) # 4. A standard deviation of [0.229, 0.224, 0.225] (across each colour channel),\n",
    "])"
   ]
  },
  {
   "cell_type": "code",
   "execution_count": 8,
   "id": "f7d97a6f-50f8-4212-a777-3d2cfac2a4fe",
   "metadata": {
    "id": "f7d97a6f-50f8-4212-a777-3d2cfac2a4fe",
    "outputId": "e78e6777-0540-4f46-a370-6bb9dc9c153e"
   },
   "outputs": [
    {
     "data": {
      "text/plain": [
       "(<torch.utils.data.dataloader.DataLoader at 0x2939dc436a0>,\n",
       " <torch.utils.data.dataloader.DataLoader at 0x2939dc435e0>,\n",
       " ['Disk, Edge-on, Boxy Bulge',\n",
       "  'Disk, Edge-on, No Bulge',\n",
       "  'Disk, Face-on, Loose Spiral',\n",
       "  'Disk, Face-on, Medium Spiral',\n",
       "  'Disk, Face-on, No Spiral',\n",
       "  'Disk, Face-on, Tight Spiral',\n",
       "  'Smooth, Cigar shaped',\n",
       "  'Smooth, Completely round',\n",
       "  'Smooth, in-between round'])"
      ]
     },
     "execution_count": 8,
     "metadata": {},
     "output_type": "execute_result"
    }
   ],
   "source": [
    "# Create training and testing DataLoaders as well as get a list of class names\n",
    "train_dataloader, test_dataloader, class_names = data_setup.create_dataloaders(train_dir=train_dir,\n",
    "                                                                               test_dir=test_dir,\n",
    "                                                                               transform=manual_transforms, # resize, convert images to between 0 & 1 and normalize them\n",
    "                                                                               batch_size=32) # set mini-batch size to 32\n",
    "\n",
    "train_dataloader, test_dataloader, class_names"
   ]
  },
  {
   "cell_type": "markdown",
   "id": "7cbd7821-21c0-44e7-a3a0-0682e241ea27",
   "metadata": {
    "id": "7cbd7821-21c0-44e7-a3a0-0682e241ea27"
   },
   "source": [
    "### Creating a transform for `torchvision.models` \n",
    "\n"
   ]
  },
  {
   "cell_type": "code",
   "execution_count": 9,
   "id": "d3f4bd4c-7b7a-41fb-8d1c-ae96ee88f024",
   "metadata": {
    "id": "d3f4bd4c-7b7a-41fb-8d1c-ae96ee88f024",
    "outputId": "0fa0cd79-0e0e-48db-d8ce-e3572dfb320d"
   },
   "outputs": [
    {
     "data": {
      "text/plain": [
       "ViT_B_16_Weights.IMAGENET1K_V1"
      ]
     },
     "execution_count": 9,
     "metadata": {},
     "output_type": "execute_result"
    }
   ],
   "source": [
    "# Get a set of pretrained model weights\n",
    "weights = torchvision.models.ViT_B_16_Weights.IMAGENET1K_V1 # .DEFAULT = best available weights from pretraining on ImageNet\n",
    "weights"
   ]
  },
  {
   "cell_type": "code",
   "execution_count": 10,
   "id": "29924062-a233-4926-a77a-9052d1956938",
   "metadata": {
    "id": "29924062-a233-4926-a77a-9052d1956938",
    "outputId": "e1f5a5eb-bc66-40e5-e225-d4eadb832f3b"
   },
   "outputs": [
    {
     "data": {
      "text/plain": [
       "ImageClassification(\n",
       "    crop_size=[224]\n",
       "    resize_size=[256]\n",
       "    mean=[0.485, 0.456, 0.406]\n",
       "    std=[0.229, 0.224, 0.225]\n",
       "    interpolation=InterpolationMode.BILINEAR\n",
       ")"
      ]
     },
     "execution_count": 10,
     "metadata": {},
     "output_type": "execute_result"
    }
   ],
   "source": [
    "# Get the transforms used to create our pretrained weights\n",
    "auto_transforms = weights.transforms()\n",
    "auto_transforms"
   ]
  },
  {
   "cell_type": "code",
   "execution_count": 11,
   "id": "7c21ffb5-a6d9-40d5-b0d0-47828612d282",
   "metadata": {
    "id": "7c21ffb5-a6d9-40d5-b0d0-47828612d282",
    "outputId": "be1d5717-3798-424c-d22f-597456a9ccb1"
   },
   "outputs": [
    {
     "data": {
      "text/plain": [
       "(<torch.utils.data.dataloader.DataLoader at 0x2939dc4dcd0>,\n",
       " <torch.utils.data.dataloader.DataLoader at 0x2939dc4d5e0>,\n",
       " ['Disk, Edge-on, Boxy Bulge',\n",
       "  'Disk, Edge-on, No Bulge',\n",
       "  'Disk, Face-on, Loose Spiral',\n",
       "  'Disk, Face-on, Medium Spiral',\n",
       "  'Disk, Face-on, No Spiral',\n",
       "  'Disk, Face-on, Tight Spiral',\n",
       "  'Smooth, Cigar shaped',\n",
       "  'Smooth, Completely round',\n",
       "  'Smooth, in-between round'])"
      ]
     },
     "execution_count": 11,
     "metadata": {},
     "output_type": "execute_result"
    }
   ],
   "source": [
    "# Create training and testing DataLoaders as well as get a list of class names\n",
    "train_dataloader, test_dataloader, class_names = data_setup.create_dataloaders(train_dir=train_dir,\n",
    "                                                                               test_dir=test_dir,\n",
    "                                                                               transform=auto_transforms, # perform same data transforms on our own data as the pretrained model\n",
    "                                                                               batch_size=32) # set mini-batch size to 32\n",
    "\n",
    "train_dataloader, test_dataloader, class_names"
   ]
  },
  {
   "cell_type": "markdown",
   "id": "71a4f3eb-9349-472f-96b1-735fac55ba73",
   "metadata": {
    "id": "71a4f3eb-9349-472f-96b1-735fac55ba73"
   },
   "source": [
    "## Getting a pretrained model\n"
   ]
  },
  {
   "cell_type": "markdown",
   "id": "5d2d5d0b-ba3c-4f6a-a7eb-ae8b3bbc5a34",
   "metadata": {
    "id": "5d2d5d0b-ba3c-4f6a-a7eb-ae8b3bbc5a34"
   },
   "source": [
    "Here we use the base Vision Transformer Architecture from the <i><b>An Image is Worth 16x16 Words</i></b> paper"
   ]
  },
  {
   "cell_type": "code",
   "execution_count": 12,
   "id": "7593110c-0b32-47e6-9e29-f33d6c0ac840",
   "metadata": {
    "id": "7593110c-0b32-47e6-9e29-f33d6c0ac840",
    "scrolled": true
   },
   "outputs": [
    {
     "data": {
      "text/plain": [
       "VisionTransformer(\n",
       "  (conv_proj): Conv2d(3, 768, kernel_size=(16, 16), stride=(16, 16))\n",
       "  (encoder): Encoder(\n",
       "    (dropout): Dropout(p=0.0, inplace=False)\n",
       "    (layers): Sequential(\n",
       "      (encoder_layer_0): EncoderBlock(\n",
       "        (ln_1): LayerNorm((768,), eps=1e-06, elementwise_affine=True)\n",
       "        (self_attention): MultiheadAttention(\n",
       "          (out_proj): NonDynamicallyQuantizableLinear(in_features=768, out_features=768, bias=True)\n",
       "        )\n",
       "        (dropout): Dropout(p=0.0, inplace=False)\n",
       "        (ln_2): LayerNorm((768,), eps=1e-06, elementwise_affine=True)\n",
       "        (mlp): MLPBlock(\n",
       "          (0): Linear(in_features=768, out_features=3072, bias=True)\n",
       "          (1): GELU(approximate='none')\n",
       "          (2): Dropout(p=0.0, inplace=False)\n",
       "          (3): Linear(in_features=3072, out_features=768, bias=True)\n",
       "          (4): Dropout(p=0.0, inplace=False)\n",
       "        )\n",
       "      )\n",
       "      (encoder_layer_1): EncoderBlock(\n",
       "        (ln_1): LayerNorm((768,), eps=1e-06, elementwise_affine=True)\n",
       "        (self_attention): MultiheadAttention(\n",
       "          (out_proj): NonDynamicallyQuantizableLinear(in_features=768, out_features=768, bias=True)\n",
       "        )\n",
       "        (dropout): Dropout(p=0.0, inplace=False)\n",
       "        (ln_2): LayerNorm((768,), eps=1e-06, elementwise_affine=True)\n",
       "        (mlp): MLPBlock(\n",
       "          (0): Linear(in_features=768, out_features=3072, bias=True)\n",
       "          (1): GELU(approximate='none')\n",
       "          (2): Dropout(p=0.0, inplace=False)\n",
       "          (3): Linear(in_features=3072, out_features=768, bias=True)\n",
       "          (4): Dropout(p=0.0, inplace=False)\n",
       "        )\n",
       "      )\n",
       "      (encoder_layer_2): EncoderBlock(\n",
       "        (ln_1): LayerNorm((768,), eps=1e-06, elementwise_affine=True)\n",
       "        (self_attention): MultiheadAttention(\n",
       "          (out_proj): NonDynamicallyQuantizableLinear(in_features=768, out_features=768, bias=True)\n",
       "        )\n",
       "        (dropout): Dropout(p=0.0, inplace=False)\n",
       "        (ln_2): LayerNorm((768,), eps=1e-06, elementwise_affine=True)\n",
       "        (mlp): MLPBlock(\n",
       "          (0): Linear(in_features=768, out_features=3072, bias=True)\n",
       "          (1): GELU(approximate='none')\n",
       "          (2): Dropout(p=0.0, inplace=False)\n",
       "          (3): Linear(in_features=3072, out_features=768, bias=True)\n",
       "          (4): Dropout(p=0.0, inplace=False)\n",
       "        )\n",
       "      )\n",
       "      (encoder_layer_3): EncoderBlock(\n",
       "        (ln_1): LayerNorm((768,), eps=1e-06, elementwise_affine=True)\n",
       "        (self_attention): MultiheadAttention(\n",
       "          (out_proj): NonDynamicallyQuantizableLinear(in_features=768, out_features=768, bias=True)\n",
       "        )\n",
       "        (dropout): Dropout(p=0.0, inplace=False)\n",
       "        (ln_2): LayerNorm((768,), eps=1e-06, elementwise_affine=True)\n",
       "        (mlp): MLPBlock(\n",
       "          (0): Linear(in_features=768, out_features=3072, bias=True)\n",
       "          (1): GELU(approximate='none')\n",
       "          (2): Dropout(p=0.0, inplace=False)\n",
       "          (3): Linear(in_features=3072, out_features=768, bias=True)\n",
       "          (4): Dropout(p=0.0, inplace=False)\n",
       "        )\n",
       "      )\n",
       "      (encoder_layer_4): EncoderBlock(\n",
       "        (ln_1): LayerNorm((768,), eps=1e-06, elementwise_affine=True)\n",
       "        (self_attention): MultiheadAttention(\n",
       "          (out_proj): NonDynamicallyQuantizableLinear(in_features=768, out_features=768, bias=True)\n",
       "        )\n",
       "        (dropout): Dropout(p=0.0, inplace=False)\n",
       "        (ln_2): LayerNorm((768,), eps=1e-06, elementwise_affine=True)\n",
       "        (mlp): MLPBlock(\n",
       "          (0): Linear(in_features=768, out_features=3072, bias=True)\n",
       "          (1): GELU(approximate='none')\n",
       "          (2): Dropout(p=0.0, inplace=False)\n",
       "          (3): Linear(in_features=3072, out_features=768, bias=True)\n",
       "          (4): Dropout(p=0.0, inplace=False)\n",
       "        )\n",
       "      )\n",
       "      (encoder_layer_5): EncoderBlock(\n",
       "        (ln_1): LayerNorm((768,), eps=1e-06, elementwise_affine=True)\n",
       "        (self_attention): MultiheadAttention(\n",
       "          (out_proj): NonDynamicallyQuantizableLinear(in_features=768, out_features=768, bias=True)\n",
       "        )\n",
       "        (dropout): Dropout(p=0.0, inplace=False)\n",
       "        (ln_2): LayerNorm((768,), eps=1e-06, elementwise_affine=True)\n",
       "        (mlp): MLPBlock(\n",
       "          (0): Linear(in_features=768, out_features=3072, bias=True)\n",
       "          (1): GELU(approximate='none')\n",
       "          (2): Dropout(p=0.0, inplace=False)\n",
       "          (3): Linear(in_features=3072, out_features=768, bias=True)\n",
       "          (4): Dropout(p=0.0, inplace=False)\n",
       "        )\n",
       "      )\n",
       "      (encoder_layer_6): EncoderBlock(\n",
       "        (ln_1): LayerNorm((768,), eps=1e-06, elementwise_affine=True)\n",
       "        (self_attention): MultiheadAttention(\n",
       "          (out_proj): NonDynamicallyQuantizableLinear(in_features=768, out_features=768, bias=True)\n",
       "        )\n",
       "        (dropout): Dropout(p=0.0, inplace=False)\n",
       "        (ln_2): LayerNorm((768,), eps=1e-06, elementwise_affine=True)\n",
       "        (mlp): MLPBlock(\n",
       "          (0): Linear(in_features=768, out_features=3072, bias=True)\n",
       "          (1): GELU(approximate='none')\n",
       "          (2): Dropout(p=0.0, inplace=False)\n",
       "          (3): Linear(in_features=3072, out_features=768, bias=True)\n",
       "          (4): Dropout(p=0.0, inplace=False)\n",
       "        )\n",
       "      )\n",
       "      (encoder_layer_7): EncoderBlock(\n",
       "        (ln_1): LayerNorm((768,), eps=1e-06, elementwise_affine=True)\n",
       "        (self_attention): MultiheadAttention(\n",
       "          (out_proj): NonDynamicallyQuantizableLinear(in_features=768, out_features=768, bias=True)\n",
       "        )\n",
       "        (dropout): Dropout(p=0.0, inplace=False)\n",
       "        (ln_2): LayerNorm((768,), eps=1e-06, elementwise_affine=True)\n",
       "        (mlp): MLPBlock(\n",
       "          (0): Linear(in_features=768, out_features=3072, bias=True)\n",
       "          (1): GELU(approximate='none')\n",
       "          (2): Dropout(p=0.0, inplace=False)\n",
       "          (3): Linear(in_features=3072, out_features=768, bias=True)\n",
       "          (4): Dropout(p=0.0, inplace=False)\n",
       "        )\n",
       "      )\n",
       "      (encoder_layer_8): EncoderBlock(\n",
       "        (ln_1): LayerNorm((768,), eps=1e-06, elementwise_affine=True)\n",
       "        (self_attention): MultiheadAttention(\n",
       "          (out_proj): NonDynamicallyQuantizableLinear(in_features=768, out_features=768, bias=True)\n",
       "        )\n",
       "        (dropout): Dropout(p=0.0, inplace=False)\n",
       "        (ln_2): LayerNorm((768,), eps=1e-06, elementwise_affine=True)\n",
       "        (mlp): MLPBlock(\n",
       "          (0): Linear(in_features=768, out_features=3072, bias=True)\n",
       "          (1): GELU(approximate='none')\n",
       "          (2): Dropout(p=0.0, inplace=False)\n",
       "          (3): Linear(in_features=3072, out_features=768, bias=True)\n",
       "          (4): Dropout(p=0.0, inplace=False)\n",
       "        )\n",
       "      )\n",
       "      (encoder_layer_9): EncoderBlock(\n",
       "        (ln_1): LayerNorm((768,), eps=1e-06, elementwise_affine=True)\n",
       "        (self_attention): MultiheadAttention(\n",
       "          (out_proj): NonDynamicallyQuantizableLinear(in_features=768, out_features=768, bias=True)\n",
       "        )\n",
       "        (dropout): Dropout(p=0.0, inplace=False)\n",
       "        (ln_2): LayerNorm((768,), eps=1e-06, elementwise_affine=True)\n",
       "        (mlp): MLPBlock(\n",
       "          (0): Linear(in_features=768, out_features=3072, bias=True)\n",
       "          (1): GELU(approximate='none')\n",
       "          (2): Dropout(p=0.0, inplace=False)\n",
       "          (3): Linear(in_features=3072, out_features=768, bias=True)\n",
       "          (4): Dropout(p=0.0, inplace=False)\n",
       "        )\n",
       "      )\n",
       "      (encoder_layer_10): EncoderBlock(\n",
       "        (ln_1): LayerNorm((768,), eps=1e-06, elementwise_affine=True)\n",
       "        (self_attention): MultiheadAttention(\n",
       "          (out_proj): NonDynamicallyQuantizableLinear(in_features=768, out_features=768, bias=True)\n",
       "        )\n",
       "        (dropout): Dropout(p=0.0, inplace=False)\n",
       "        (ln_2): LayerNorm((768,), eps=1e-06, elementwise_affine=True)\n",
       "        (mlp): MLPBlock(\n",
       "          (0): Linear(in_features=768, out_features=3072, bias=True)\n",
       "          (1): GELU(approximate='none')\n",
       "          (2): Dropout(p=0.0, inplace=False)\n",
       "          (3): Linear(in_features=3072, out_features=768, bias=True)\n",
       "          (4): Dropout(p=0.0, inplace=False)\n",
       "        )\n",
       "      )\n",
       "      (encoder_layer_11): EncoderBlock(\n",
       "        (ln_1): LayerNorm((768,), eps=1e-06, elementwise_affine=True)\n",
       "        (self_attention): MultiheadAttention(\n",
       "          (out_proj): NonDynamicallyQuantizableLinear(in_features=768, out_features=768, bias=True)\n",
       "        )\n",
       "        (dropout): Dropout(p=0.0, inplace=False)\n",
       "        (ln_2): LayerNorm((768,), eps=1e-06, elementwise_affine=True)\n",
       "        (mlp): MLPBlock(\n",
       "          (0): Linear(in_features=768, out_features=3072, bias=True)\n",
       "          (1): GELU(approximate='none')\n",
       "          (2): Dropout(p=0.0, inplace=False)\n",
       "          (3): Linear(in_features=3072, out_features=768, bias=True)\n",
       "          (4): Dropout(p=0.0, inplace=False)\n",
       "        )\n",
       "      )\n",
       "    )\n",
       "    (ln): LayerNorm((768,), eps=1e-06, elementwise_affine=True)\n",
       "  )\n",
       "  (heads): Sequential(\n",
       "    (head): Linear(in_features=768, out_features=1000, bias=True)\n",
       "  )\n",
       ")"
      ]
     },
     "execution_count": 12,
     "metadata": {},
     "output_type": "execute_result"
    }
   ],
   "source": [
    "# NEW: Setup the model with pretrained weights and send it to the target device (torchvision v0.13+)\n",
    "weights = torchvision.models.ViT_B_16_Weights.IMAGENET1K_V1\n",
    "model = torchvision.models.vit_b_16(weights = weights, progress = False).to(device)\n",
    "\n",
    "model"
   ]
  },
  {
   "cell_type": "markdown",
   "id": "29912dff-574a-47c7-b514-86841532dbe3",
   "metadata": {
    "id": "29912dff-574a-47c7-b514-86841532dbe3"
   },
   "source": [
    "### Getting a summary of our model with `torchinfo.summary()`\n",
    "\n",
    "We use torchinfo to learn more about the model we are using:\n",
    "To do so, we'll pass in:\n",
    " * `model` - the model we'd like to get a summary of.\n",
    " * `input_size` - the shape of the data we'd like to pass to our model.\n",
    " * `col_names` - the various information columns we'd like to see about our model. \n",
    " * `col_width` - how wide the columns should be for the summary.\n",
    " * `row_settings` - what features to show in a row."
   ]
  },
  {
   "cell_type": "code",
   "execution_count": 13,
   "id": "524020c6-09d3-4ecf-b791-dbd71ed389e3",
   "metadata": {
    "id": "524020c6-09d3-4ecf-b791-dbd71ed389e3",
    "outputId": "c30d7651-aa56-4a39-a38f-ac8de761f817"
   },
   "outputs": [
    {
     "data": {
      "text/plain": [
       "====================================================================================================\n",
       "Layer (type (var_name))                                      Input Shape Output Shape Param #    Trainable\n",
       "====================================================================================================\n",
       "VisionTransformer (VisionTransformer)                        [32, 3, 224, 224] [32, 1000] 768        True\n",
       "├─Conv2d (conv_proj)                                         [32, 3, 224, 224] [32, 768, 14, 14] 590,592    True\n",
       "├─Encoder (encoder)                                          [32, 197, 768] [32, 197, 768] 151,296    True\n",
       "│    └─Dropout (dropout)                                     [32, 197, 768] [32, 197, 768] --         --\n",
       "│    └─Sequential (layers)                                   [32, 197, 768] [32, 197, 768] --         True\n",
       "│    │    └─EncoderBlock (encoder_layer_0)                   [32, 197, 768] [32, 197, 768] 7,087,872  True\n",
       "│    │    └─EncoderBlock (encoder_layer_1)                   [32, 197, 768] [32, 197, 768] 7,087,872  True\n",
       "│    │    └─EncoderBlock (encoder_layer_2)                   [32, 197, 768] [32, 197, 768] 7,087,872  True\n",
       "│    │    └─EncoderBlock (encoder_layer_3)                   [32, 197, 768] [32, 197, 768] 7,087,872  True\n",
       "│    │    └─EncoderBlock (encoder_layer_4)                   [32, 197, 768] [32, 197, 768] 7,087,872  True\n",
       "│    │    └─EncoderBlock (encoder_layer_5)                   [32, 197, 768] [32, 197, 768] 7,087,872  True\n",
       "│    │    └─EncoderBlock (encoder_layer_6)                   [32, 197, 768] [32, 197, 768] 7,087,872  True\n",
       "│    │    └─EncoderBlock (encoder_layer_7)                   [32, 197, 768] [32, 197, 768] 7,087,872  True\n",
       "│    │    └─EncoderBlock (encoder_layer_8)                   [32, 197, 768] [32, 197, 768] 7,087,872  True\n",
       "│    │    └─EncoderBlock (encoder_layer_9)                   [32, 197, 768] [32, 197, 768] 7,087,872  True\n",
       "│    │    └─EncoderBlock (encoder_layer_10)                  [32, 197, 768] [32, 197, 768] 7,087,872  True\n",
       "│    │    └─EncoderBlock (encoder_layer_11)                  [32, 197, 768] [32, 197, 768] 7,087,872  True\n",
       "│    └─LayerNorm (ln)                                        [32, 197, 768] [32, 197, 768] 1,536      True\n",
       "├─Sequential (heads)                                         [32, 768]  [32, 1000] --         True\n",
       "│    └─Linear (head)                                         [32, 768]  [32, 1000] 769,000    True\n",
       "====================================================================================================\n",
       "Total params: 86,567,656\n",
       "Trainable params: 86,567,656\n",
       "Non-trainable params: 0\n",
       "Total mult-adds (G): 5.54\n",
       "====================================================================================================\n",
       "Input size (MB): 19.27\n",
       "Forward/backward pass size (MB): 3330.99\n",
       "Params size (MB): 232.27\n",
       "Estimated Total Size (MB): 3582.53\n",
       "===================================================================================================="
      ]
     },
     "execution_count": 13,
     "metadata": {},
     "output_type": "execute_result"
    }
   ],
   "source": [
    "# Print a summary using torchinfo (uncomment for actual output)\n",
    "input_size = (32, 3, 224, 224)\n",
    "summary(model=model, \n",
    "        input_size= input_size, \n",
    "        col_names=[\"input_size\", \"output_size\", \"num_params\", \"trainable\"],\n",
    "        col_width=10,\n",
    "        row_settings=[\"var_names\"]\n",
    ") "
   ]
  },
  {
   "cell_type": "markdown",
   "id": "24af9d91-7ddc-4eb7-b39e-7459b529fb38",
   "metadata": {
    "id": "24af9d91-7ddc-4eb7-b39e-7459b529fb38"
   },
   "source": [
    "### Freezing the base model and changing the output layer to suit our needs\n",
    "\n"
   ]
  },
  {
   "cell_type": "code",
   "execution_count": 14,
   "id": "d9cbf97f-5dbf-4283-b70f-91b49e3713e5",
   "metadata": {
    "id": "d9cbf97f-5dbf-4283-b70f-91b49e3713e5"
   },
   "outputs": [],
   "source": [
    "# Freeze all base layers in the \"features\" section of the model (the feature extractor) by setting requires_grad=False\n",
    "for param in model.encoder.parameters():\n",
    "    param.requires_grad = False"
   ]
  },
  {
   "cell_type": "code",
   "execution_count": 15,
   "id": "c70dc8dd",
   "metadata": {},
   "outputs": [],
   "source": [
    "# for name, layer in model.named_modules():\n",
    "#     if isinstance(layer, torch.nn.Dropout):\n",
    "#          layer.p = 0.1"
   ]
  },
  {
   "cell_type": "code",
   "execution_count": 16,
   "id": "79e804bd-5ddd-470c-9c95-a4150cc1cc3c",
   "metadata": {
    "id": "79e804bd-5ddd-470c-9c95-a4150cc1cc3c"
   },
   "outputs": [],
   "source": [
    "# Set the manual seeds\n",
    "torch.manual_seed(42)\n",
    "torch.cuda.manual_seed(42)\n",
    "\n",
    "# Get the length of class_names (one output unit for each class)\n",
    "output_shape = len(class_names)\n",
    "\n",
    "# Recreate the classifier layer and seed it to the target device\n",
    "model.heads = torch.nn.Sequential(\n",
    "    torch.nn.Linear(in_features=768, \n",
    "                    out_features=output_shape, # same number of output units as our number of classes\n",
    "                    bias=True)).to(device)\n",
    "\n",
    "#Change output classes to Astronomy classes\n",
    "weights.meta['categories'] = class_names"
   ]
  },
  {
   "cell_type": "code",
   "execution_count": 17,
   "id": "d5370a8b-34cf-441f-925d-4120a929ed62",
   "metadata": {
    "id": "d5370a8b-34cf-441f-925d-4120a929ed62",
    "outputId": "b6a6d3cd-c7bd-4efa-db06-fab85c04fed2"
   },
   "outputs": [
    {
     "data": {
      "text/plain": [
       "====================================================================================================\n",
       "Layer (type (var_name))                                      Input Shape Output Shape Param #    Trainable\n",
       "====================================================================================================\n",
       "VisionTransformer (VisionTransformer)                        [32, 3, 224, 224] [32, 9]    768        Partial\n",
       "├─Conv2d (conv_proj)                                         [32, 3, 224, 224] [32, 768, 14, 14] 590,592    True\n",
       "├─Encoder (encoder)                                          [32, 197, 768] [32, 197, 768] 151,296    False\n",
       "│    └─Dropout (dropout)                                     [32, 197, 768] [32, 197, 768] --         --\n",
       "│    └─Sequential (layers)                                   [32, 197, 768] [32, 197, 768] --         False\n",
       "│    │    └─EncoderBlock (encoder_layer_0)                   [32, 197, 768] [32, 197, 768] (7,087,872) False\n",
       "│    │    └─EncoderBlock (encoder_layer_1)                   [32, 197, 768] [32, 197, 768] (7,087,872) False\n",
       "│    │    └─EncoderBlock (encoder_layer_2)                   [32, 197, 768] [32, 197, 768] (7,087,872) False\n",
       "│    │    └─EncoderBlock (encoder_layer_3)                   [32, 197, 768] [32, 197, 768] (7,087,872) False\n",
       "│    │    └─EncoderBlock (encoder_layer_4)                   [32, 197, 768] [32, 197, 768] (7,087,872) False\n",
       "│    │    └─EncoderBlock (encoder_layer_5)                   [32, 197, 768] [32, 197, 768] (7,087,872) False\n",
       "│    │    └─EncoderBlock (encoder_layer_6)                   [32, 197, 768] [32, 197, 768] (7,087,872) False\n",
       "│    │    └─EncoderBlock (encoder_layer_7)                   [32, 197, 768] [32, 197, 768] (7,087,872) False\n",
       "│    │    └─EncoderBlock (encoder_layer_8)                   [32, 197, 768] [32, 197, 768] (7,087,872) False\n",
       "│    │    └─EncoderBlock (encoder_layer_9)                   [32, 197, 768] [32, 197, 768] (7,087,872) False\n",
       "│    │    └─EncoderBlock (encoder_layer_10)                  [32, 197, 768] [32, 197, 768] (7,087,872) False\n",
       "│    │    └─EncoderBlock (encoder_layer_11)                  [32, 197, 768] [32, 197, 768] (7,087,872) False\n",
       "│    └─LayerNorm (ln)                                        [32, 197, 768] [32, 197, 768] (1,536)    False\n",
       "├─Sequential (heads)                                         [32, 768]  [32, 9]    --         True\n",
       "│    └─Linear (0)                                            [32, 768]  [32, 9]    6,921      True\n",
       "====================================================================================================\n",
       "Total params: 85,805,577\n",
       "Trainable params: 598,281\n",
       "Non-trainable params: 85,207,296\n",
       "Total mult-adds (G): 5.52\n",
       "====================================================================================================\n",
       "Input size (MB): 19.27\n",
       "Forward/backward pass size (MB): 3330.74\n",
       "Params size (MB): 229.22\n",
       "Estimated Total Size (MB): 3579.23\n",
       "===================================================================================================="
      ]
     },
     "execution_count": 17,
     "metadata": {},
     "output_type": "execute_result"
    }
   ],
   "source": [
    "# # Do a summary *after* freezing the features and changing the output classifier layer (uncomment for actual output)\n",
    "summary(model, \n",
    "        input_size= input_size, # make sure this is \"input_size\", not \"input_shape\" (batch_size, color_channels, height, width)\n",
    "        verbose=0,\n",
    "        col_names=[\"input_size\", \"output_size\", \"num_params\", \"trainable\"],\n",
    "        col_width=10,\n",
    "        row_settings=[\"var_names\"]\n",
    ")"
   ]
  },
  {
   "cell_type": "markdown",
   "id": "13d7edb7",
   "metadata": {},
   "source": [
    "Here, we see that <i>Trainable</i> is set to False except for the final layer of the model"
   ]
  },
  {
   "cell_type": "code",
   "execution_count": 18,
   "id": "cc190667",
   "metadata": {},
   "outputs": [
    {
     "data": {
      "text/plain": [
       "===============================================================================================\n",
       "Layer (type:depth-idx)                        Output Shape              Param #\n",
       "===============================================================================================\n",
       "VisionTransformer                             [32, 9]                   768\n",
       "├─Conv2d: 1-1                                 [32, 768, 14, 14]         590,592\n",
       "├─Encoder: 1-2                                [32, 197, 768]            151,296\n",
       "│    └─Dropout: 2-1                           [32, 197, 768]            --\n",
       "│    └─Sequential: 2-2                        [32, 197, 768]            --\n",
       "│    │    └─EncoderBlock: 3-1                 [32, 197, 768]            (7,087,872)\n",
       "│    │    └─EncoderBlock: 3-2                 [32, 197, 768]            (7,087,872)\n",
       "│    │    └─EncoderBlock: 3-3                 [32, 197, 768]            (7,087,872)\n",
       "│    │    └─EncoderBlock: 3-4                 [32, 197, 768]            (7,087,872)\n",
       "│    │    └─EncoderBlock: 3-5                 [32, 197, 768]            (7,087,872)\n",
       "│    │    └─EncoderBlock: 3-6                 [32, 197, 768]            (7,087,872)\n",
       "│    │    └─EncoderBlock: 3-7                 [32, 197, 768]            (7,087,872)\n",
       "│    │    └─EncoderBlock: 3-8                 [32, 197, 768]            (7,087,872)\n",
       "│    │    └─EncoderBlock: 3-9                 [32, 197, 768]            (7,087,872)\n",
       "│    │    └─EncoderBlock: 3-10                [32, 197, 768]            (7,087,872)\n",
       "│    │    └─EncoderBlock: 3-11                [32, 197, 768]            (7,087,872)\n",
       "│    │    └─EncoderBlock: 3-12                [32, 197, 768]            (7,087,872)\n",
       "│    └─LayerNorm: 2-3                         [32, 197, 768]            (1,536)\n",
       "├─Sequential: 1-3                             [32, 9]                   --\n",
       "│    └─Linear: 2-4                            [32, 9]                   6,921\n",
       "===============================================================================================\n",
       "Total params: 85,805,577\n",
       "Trainable params: 598,281\n",
       "Non-trainable params: 85,207,296\n",
       "Total mult-adds (G): 5.52\n",
       "===============================================================================================\n",
       "Input size (MB): 19.27\n",
       "Forward/backward pass size (MB): 3330.74\n",
       "Params size (MB): 229.22\n",
       "Estimated Total Size (MB): 3579.23\n",
       "==============================================================================================="
      ]
     },
     "execution_count": 18,
     "metadata": {},
     "output_type": "execute_result"
    }
   ],
   "source": [
    "import torchinfo \n",
    "torchinfo.summary(model, input_size= input_size)"
   ]
  },
  {
   "cell_type": "markdown",
   "id": "dc075f8d-4394-49b3-83e6-5bf3500209f5",
   "metadata": {
    "id": "dc075f8d-4394-49b3-83e6-5bf3500209f5"
   },
   "source": [
    "## Train model\n",
    "\n"
   ]
  },
  {
   "cell_type": "code",
   "execution_count": 19,
   "id": "582200bb-c3f8-4044-ae59-007b921a2422",
   "metadata": {
    "id": "582200bb-c3f8-4044-ae59-007b921a2422"
   },
   "outputs": [],
   "source": [
    "# Define loss and optimizer\n",
    "loss_fn = nn.CrossEntropyLoss()\n",
    "optimizer = torch.optim.AdamW(model.parameters(), lr=0.0001)"
   ]
  },
  {
   "cell_type": "code",
   "execution_count": 20,
   "id": "0e698d13-dedf-48f7-bca3-b21cd969b2d2",
   "metadata": {
    "colab": {
     "referenced_widgets": [
      "b61588abc1df499286a8e260d139026b"
     ]
    },
    "id": "0e698d13-dedf-48f7-bca3-b21cd969b2d2",
    "outputId": "b44045a3-ba5b-46f8-a184-601f86090096"
   },
   "outputs": [
    {
     "data": {
      "application/vnd.jupyter.widget-view+json": {
       "model_id": "edfe9924a9c4494d883ff7be01ff21b6",
       "version_major": 2,
       "version_minor": 0
      },
      "text/plain": [
       "  0%|          | 0/100 [00:00<?, ?it/s]"
      ]
     },
     "metadata": {},
     "output_type": "display_data"
    },
    {
     "name": "stdout",
     "output_type": "stream",
     "text": [
      "Epoch: 1 | train_loss: 1.4964 | train_acc: 0.4767 | test_loss: 1.4900 | test_acc: 0.4558 | min_test_loss: 1.4900 | \n",
      "Epoch: 2 | train_loss: 1.1893 | train_acc: 0.5772 | test_loss: 1.1573 | test_acc: 0.5690 | min_test_loss: 1.1573 | \n",
      "Epoch: 3 | train_loss: 1.0319 | train_acc: 0.6358 | test_loss: 1.1814 | test_acc: 0.5864 | min_test_loss: 1.1573 | \n",
      "Epoch: 4 | train_loss: 0.9547 | train_acc: 0.6643 | test_loss: 0.9806 | test_acc: 0.6511 | min_test_loss: 0.9806 | \n",
      "Epoch: 5 | train_loss: 0.9015 | train_acc: 0.6918 | test_loss: 0.9365 | test_acc: 0.6677 | min_test_loss: 0.9365 | \n",
      "Epoch: 6 | train_loss: 0.8593 | train_acc: 0.7015 | test_loss: 0.8773 | test_acc: 0.6890 | min_test_loss: 0.8773 | \n",
      "Epoch: 7 | train_loss: 0.8120 | train_acc: 0.7240 | test_loss: 0.8767 | test_acc: 0.6914 | min_test_loss: 0.8767 | \n",
      "Epoch: 8 | train_loss: 0.7949 | train_acc: 0.7241 | test_loss: 1.0164 | test_acc: 0.6356 | min_test_loss: 0.8767 | \n",
      "Epoch: 9 | train_loss: 0.8055 | train_acc: 0.7213 | test_loss: 0.8410 | test_acc: 0.7045 | min_test_loss: 0.8410 | \n",
      "Epoch: 10 | train_loss: 0.7462 | train_acc: 0.7421 | test_loss: 0.8660 | test_acc: 0.6946 | min_test_loss: 0.8410 | \n",
      "Epoch: 11 | train_loss: 0.7296 | train_acc: 0.7435 | test_loss: 0.8825 | test_acc: 0.6955 | min_test_loss: 0.8410 | \n",
      "Epoch: 12 | train_loss: 0.7318 | train_acc: 0.7475 | test_loss: 0.8247 | test_acc: 0.7156 | min_test_loss: 0.8247 | \n",
      "Epoch: 13 | train_loss: 0.6914 | train_acc: 0.7597 | test_loss: 0.8282 | test_acc: 0.7090 | min_test_loss: 0.8247 | \n",
      "Epoch: 14 | train_loss: 0.6784 | train_acc: 0.7667 | test_loss: 0.8216 | test_acc: 0.7155 | min_test_loss: 0.8216 | \n",
      "Epoch: 15 | train_loss: 0.6696 | train_acc: 0.7700 | test_loss: 0.8723 | test_acc: 0.7057 | min_test_loss: 0.8216 | \n",
      "Epoch: 16 | train_loss: 0.6835 | train_acc: 0.7649 | test_loss: 0.7937 | test_acc: 0.7306 | min_test_loss: 0.7937 | \n",
      "Epoch: 17 | train_loss: 0.6325 | train_acc: 0.7840 | test_loss: 0.7760 | test_acc: 0.7272 | min_test_loss: 0.7760 | \n",
      "Epoch: 18 | train_loss: 0.6273 | train_acc: 0.7859 | test_loss: 0.7469 | test_acc: 0.7407 | min_test_loss: 0.7469 | \n",
      "Epoch: 19 | train_loss: 0.6183 | train_acc: 0.7862 | test_loss: 0.7746 | test_acc: 0.7270 | min_test_loss: 0.7469 | \n",
      "Epoch: 20 | train_loss: 0.6102 | train_acc: 0.7893 | test_loss: 1.2200 | test_acc: 0.5925 | min_test_loss: 0.7469 | \n",
      "Epoch: 21 | train_loss: 0.6971 | train_acc: 0.7608 | test_loss: 0.8357 | test_acc: 0.7160 | min_test_loss: 0.7469 | \n",
      "Epoch: 22 | train_loss: 0.5960 | train_acc: 0.7920 | test_loss: 0.7754 | test_acc: 0.7282 | min_test_loss: 0.7469 | \n",
      "Epoch: 23 | train_loss: 0.5719 | train_acc: 0.8013 | test_loss: 0.9375 | test_acc: 0.6633 | min_test_loss: 0.7469 | \n",
      "Epoch: 24 | train_loss: 0.6440 | train_acc: 0.7750 | test_loss: 0.8732 | test_acc: 0.7039 | min_test_loss: 0.7469 | \n",
      "[INFO] Total training time: 81.568 minutes\n",
      "[INFO] Total training time: 1.359 hours\n"
     ]
    }
   ],
   "source": [
    "# Set the random seeds\n",
    "torch.manual_seed(50)\n",
    "torch.cuda.manual_seed(50)\n",
    "\n",
    "# Start the timer\n",
    "from timeit import default_timer as timer \n",
    "start_time = timer()\n",
    "\n",
    "# Setup training and save the results\n",
    "results = engine.train(model=model,\n",
    "                       train_dataloader=train_dataloader,\n",
    "                       test_dataloader=test_dataloader,\n",
    "                       optimizer=optimizer,\n",
    "                       loss_fn=loss_fn,\n",
    "                       epochs=100,\n",
    "                       patience=3,\n",
    "                       delta=0.02,\n",
    "                       device=device)\n",
    "\n",
    "# End the timer and print out how long it took\n",
    "end_time = timer()\n",
    "print(f\"[INFO] Total training time: {(end_time-start_time)/60:.3f} minutes\")\n",
    "print(f\"[INFO] Total training time: {(end_time-start_time)/3600:.3f} hours\")"
   ]
  },
  {
   "cell_type": "markdown",
   "id": "1a5fb2e3-4e5a-4517-a5ab-409dbe92ad86",
   "metadata": {
    "id": "1a5fb2e3-4e5a-4517-a5ab-409dbe92ad86"
   },
   "source": [
    "## Evaluate model by plotting loss curves\n",
    "\n",
    "We can plot the loss curves using the `plot_loss_curves` function from the `helper_functions.py`script "
   ]
  },
  {
   "cell_type": "code",
   "execution_count": 21,
   "id": "c3c0c6af-3685-4814-b4f6-bd7abeeda28f",
   "metadata": {
    "id": "c3c0c6af-3685-4814-b4f6-bd7abeeda28f",
    "outputId": "eb5e65a1-e475-4c8e-b4b2-452e377e33a3"
   },
   "outputs": [
    {
     "data": {
      "image/png": "[encoded data removed]",
      "text/plain": [
       "<Figure size 1500x700 with 2 Axes>"
      ]
     },
     "metadata": {},
     "output_type": "display_data"
    }
   ],
   "source": [
    "# Get the plot_loss_curves() function from helper_functions.py, download the file if we don't have it\n",
    "from helper_functions import plot_loss_curves\n",
    "\n",
    "plot_loss_curves(results)"
   ]
  },
  {
   "cell_type": "code",
   "execution_count": 22,
   "id": "af969c13",
   "metadata": {},
   "outputs": [],
   "source": [
    "model_path = \"C:/Users/kumar/University of Hartford/Thesis/models/visiontransformer/vit_95.pth\"\n",
    "engine.save_model(model, model_path)\n",
    "\n",
    "results_path = \"C:/Users/kumar/University of Hartford/Thesis/models/visiontransformer/results_95.npy\"\n",
    "engine.save_results(results, results_path)"
   ]
  },
  {
   "cell_type": "code",
   "execution_count": null,
   "id": "aade20d1",
   "metadata": {},
   "outputs": [],
   "source": []
  }
 ],
 "metadata": {
  "colab": {
   "provenance": []
  },
  "kernelspec": {
   "display_name": "Python 3 (ipykernel)",
   "language": "python",
   "name": "python3"
  },
  "language_info": {
   "codemirror_mode": {
    "name": "ipython",
    "version": 3
   },
   "file_extension": ".py",
   "mimetype": "text/x-python",
   "name": "python",
   "nbconvert_exporter": "python",
   "pygments_lexer": "ipython3",
   "version": "3.9.9"
  },
  "vscode": {
   "interpreter": {
    "hash": "3fbe1355223f7b2ffc113ba3ade6a2b520cadace5d5ec3e828c83ce02eb221bf"
   }
  }
 },
 "nbformat": 4,
 "nbformat_minor": 5
}
